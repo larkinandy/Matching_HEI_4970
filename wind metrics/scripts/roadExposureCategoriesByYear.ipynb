{
 "cells": [
  {
   "cell_type": "markdown",
   "metadata": {},
   "source": [
    "# roadExposureCategoriesByYear #\n",
    "**Author:** Andrew Larkin <br>\n",
    "Created for the HEI Transit Study <br>\n",
    "**Summary:** given 2 road network shapefiles with annual road and truck traffic levels, derive annual road network subsets based on traffic cutofffs"
   ]
  },
  {
   "cell_type": "markdown",
   "metadata": {},
   "source": [
    "## part 1: import libraries and define global constants ##"
   ]
  },
  {
   "cell_type": "code",
   "execution_count": 1,
   "metadata": {},
   "outputs": [],
   "source": [
    "import arcpy\n",
    "import os\n",
    "import gConst as const"
   ]
  },
  {
   "cell_type": "code",
   "execution_count": 6,
   "metadata": {},
   "outputs": [],
   "source": [
    "YEARS = list(range(2007,2016))\n",
    "ROAD_FOLDER = const.WIND_FOLDER + \"roads/\"\n",
    "aadtLevels = [25000,50000,1000000000] # cutoffs for general traffic\n",
    "taadtLevels = [5000,10000,1000000000] # cutoffs for truck traffic"
   ]
  },
  {
   "cell_type": "markdown",
   "metadata": {},
   "source": [
    "### remove unwanted attribute fields from the shapefile attribute table ###\n",
    "INPUTS: <br>\n",
    "**shapefilepath** (str) - absolute filepath to the shapefile"
   ]
  },
  {
   "cell_type": "code",
   "execution_count": 52,
   "metadata": {},
   "outputs": [],
   "source": [
    "def trimFields(shapeFilepath):\n",
    "    fieldNames = [f.name for f in arcpy.ListFields(shapeFilepath)]\n",
    "    dropFields = []\n",
    "    for name in fieldNames:\n",
    "        if name != \"FID\" and name != \"Shape\":\n",
    "            #dropFields.append(name)\n",
    "            try:\n",
    "                arcpy.DeleteField_management(shapeFilepath,[name])\n",
    "            except exception as e:\n",
    "                print(str(e))"
   ]
  },
  {
   "cell_type": "markdown",
   "metadata": {},
   "source": [
    "### for each year and traffic category, create subset files ###\n",
    "INPUTS: <br>\n",
    "**year** (int) - year of traffic levels to create subsets for\n"
   ]
  },
  {
   "cell_type": "code",
   "execution_count": 61,
   "metadata": {},
   "outputs": [],
   "source": [
    "def createAnnualFiles(year):\n",
    "    masterList = []\n",
    "    \n",
    "    # master road network file is different for 2007-2009 and 2010-2016\n",
    "    masterRoadFile = ROAD_FOLDER + \"rhino_vmt_2010_2016.shp\" if year >= 2010 else ROAD_FOLDER + \"rhino_vmt_1995_2009.shp\"\n",
    "    ROAD_ANNUAL_FOLDER = ROAD_FOLDER + str(year)\n",
    "    if not os.path.exists(ROAD_ANNUAL_FOLDER):\n",
    "        os.mkdir(ROAD_ANNUAL_FOLDER)\n",
    "    \n",
    "    # for each general traffic level cutoff, create a subset shapefile of roads that satisfy the range\n",
    "    for cutoffIndex in range(len(aadtLevels)-1):\n",
    "        outputShapefile = ROAD_ANNUAL_FOLDER + \"/aadt\" + str(cutoffIndex) + \".shp\"\n",
    "        masterList.append(outputShapefile)\n",
    "        if not os.path.exists(outputShapefile):\n",
    "            lowerCutoff = aadtLevels[cutoffIndex]\n",
    "            upperCutoff = aadtLevels[cutoffIndex+1]\n",
    "            var = \"aadt\" + str(year) \n",
    "            expression = var + \" > \" + str(lowerCutoff) \n",
    "            arcpy.Select_analysis(masterRoadFile,outputShapefile,expression)\n",
    "        trimFields(outputShapefile)\n",
    "        \n",
    "    # for each traffic level cutoff, create a subset shapefile or roads that satisfy the range\n",
    "    for cutoffIndex in range(len(taadtLevels)-1):\n",
    "        outputShapefile = ROAD_ANNUAL_FOLDER + \"/taadt\" + str(cutoffIndex) + \".shp\"\n",
    "        masterList.append(outputShapefile)\n",
    "        if not os.path.exists(outputShapefile):\n",
    "            lowerCutoff = aadtLevels[cutoffIndex]\n",
    "            upperCutoff = aadtLevels[cutoffIndex+1]\n",
    "            var = \"aadt_t\" + str(year) \n",
    "            expression = var + \" > \" + str(lowerCutoff) \n",
    "            arcpy.Select_analysis(masterRoadFile,outputShapefile,expression)\n",
    "        trimFields(outputShapefile)\n",
    "    mergedShapefile = ROAD_ANNUAL_FOLDER + \"/merged\" + str(year) + \".shp\"\n",
    "    \n",
    "    # merge all roads that satisfy at leat one cutoff range.  Used to restrict births near 500m of one of these roads\n",
    "    if not os.path.exists(mergedShapefile):\n",
    "        arcpy.Merge_management(masterList,mergedShapefile)"
   ]
  },
  {
   "cell_type": "code",
   "execution_count": 63,
   "metadata": {},
   "outputs": [],
   "source": [
    "for year in range(2007,2016):\n",
    "    createAnnualFiles(year)"
   ]
  }
 ],
 "metadata": {
  "kernelspec": {
   "display_name": "Python 3 (ipykernel)",
   "language": "python",
   "name": "python3"
  },
  "language_info": {
   "codemirror_mode": {
    "name": "ipython",
    "version": 3
   },
   "file_extension": ".py",
   "mimetype": "text/x-python",
   "name": "python",
   "nbconvert_exporter": "python",
   "pygments_lexer": "ipython3",
   "version": "3.9.13"
  }
 },
 "nbformat": 4,
 "nbformat_minor": 4
}
