{
 "cells": [
  {
   "cell_type": "markdown",
   "id": "ec5dd716",
   "metadata": {},
   "source": [
    "<br>\n",
    "\n",
    "# createWindEpiDatasets #\n",
    "<br>\n",
    "\n",
    "**Author:** Andrew Larkin <br>\n",
    "**Summary:** Join selected matches, wind metrics, and vital statistics into a single dataset and reformat for linear and logistic regression analyses"
   ]
  },
  {
   "cell_type": "markdown",
   "id": "bdfd4af7",
   "metadata": {},
   "source": [
    "### load required libraries and define global constants ###"
   ]
  },
  {
   "cell_type": "code",
   "execution_count": 4,
   "id": "c78445f3",
   "metadata": {},
   "outputs": [
    {
     "name": "stdout",
     "output_type": "stream",
     "text": [
      "[1, 4]\n",
      "[15, 25, 50, 100]\n"
     ]
    }
   ],
   "source": [
    "import pandas as ps\n",
    "import os\n",
    "# python file containing absolute filepaths to directories containing sensitivite information\n",
    "import gConst as const \n",
    "print(const.sampleNumber)\n",
    "print(const.matchQuality)"
   ]
  },
  {
   "cell_type": "markdown",
   "id": "837969dd",
   "metadata": {},
   "source": [
    "## helper functions used in main script ##"
   ]
  },
  {
   "cell_type": "markdown",
   "id": "6acf2a1c",
   "metadata": {},
   "source": [
    "### load vital statistics and wind datasets into memory ###\n",
    "**INPUTS:**\n",
    " - vitalStatsFilepath (str) - absolute filepath to vital stats data\n",
    " - exposedFilepath (str) - absolute filepath to wind metrics for exposed\n",
    " - controlFilepath (str) - absolute filepath to wind metrics for controls\n",
    " - allWindFilepath (str) - absolute filepath to wind metrics for all residences within 500m of high traffic roads\n",
    " - unrestrictedMatchFilepath (str array) - absolute filepaths to exposed/control matches for 15,25,50, and 100m\n",
    " - restrictedMatchFilepath (str array) - absolute filepaths to exposed/control matches for 15,25, 50, and 100m, restricted to 37 to 42 weeks\n",
    "<br>\n",
    "\n",
    "**OUTPUTS:**<br>\n",
    " - arraay consisting of 5 pandas dataframes, one dataframe for each input filepath.  Dataframe are in the same order as the inputs"
   ]
  },
  {
   "cell_type": "code",
   "execution_count": 3,
   "id": "14964163",
   "metadata": {},
   "outputs": [],
   "source": [
    "def loadData(vitalStatsFilepath,exposedFilepath,controlFilepath,allWindFilepath,\n",
    "             unrestrictedMatchFilepath,restrictedMatchFilepath):\n",
    "    \n",
    "    # load datasets\n",
    "    vitalData = ps.read_csv(vitalStatsFilepath)\n",
    "    exposedData = ps.read_csv(exposedFilepath)\n",
    "    controlData = ps.read_csv(controlFilepath)\n",
    "    allWindData = ps.read_csv(allWindFilepath)\n",
    "    unrestrictedMatchData = []\n",
    "    \n",
    "    # there's one match file for 15,25,50, and 100m distances\n",
    "    for matchFile in unrestrictedMatchFilepath:\n",
    "        unrestrictedMatchData.append(ps.read_csv(matchFile))\n",
    "    restrictedMatchData = []\n",
    "    \n",
    "    # there's one match file for 15,25,50, and 100m distances\n",
    "    for matchFile in restrictedMatchFilepath:\n",
    "        restrictedMatchData.append(ps.read_csv(matchFile))\n",
    "    \n",
    "    vitalData = ps.read_csv(vitalStatsFilepath)\n",
    "    \n",
    "    print(\n",
    "        \"\"\"n records for \\nvitalStats: %i\\nexposedData: %i\\ncontrolData %i\\nallWindData: \n",
    "        %i\\nunrestrictedMatchData: %i\\nrestrictedMatchData: %i\"\"\"\n",
    "        %(vitalData.count()[0],exposedData.count()[0],controlData.count()[0],allWindData.count()[0],\n",
    "          unrestrictedMatchData[0].count()[0],restrictedMatchData[0].count()[0])\n",
    "    )\n",
    "    return([vitalData,exposedData,controlData,allWindData,unrestrictedMatchData,restrictedMatchData])"
   ]
  },
  {
   "cell_type": "markdown",
   "id": "3b206686",
   "metadata": {},
   "source": [
    "### inner join match and wind metrics for the exposed quartile.  Add number of matches for each id and exposure group indicator variable ###\n",
    "**INPUTS:**\n",
    " - matchData (pandas DataFrame) - records for the exposed/control wind matching\n",
    " - exposedData (pandas DataFrame) - wind metrics for the exposed group (top quartile of wind exposures)\n",
    "<br>\n",
    "\n",
    "**OUTPUTS:**<br>\n",
    " - pandas dataframe containing joined wind and matched metrics for the exposed group"
   ]
  },
  {
   "cell_type": "code",
   "execution_count": 4,
   "id": "95483c84",
   "metadata": {},
   "outputs": [],
   "source": [
    "def mergeExposedData(matchData,exposedData):\n",
    "    \n",
    "    # rename variables so they will be the same for exposed and control records\n",
    "    matchData['wind_dist'] = matchData['exp_dist']\n",
    "    matchData['uniqueid'] = matchData['exp_id']\n",
    "    matchData['matchid'] = matchData['ctrl_id']\n",
    "    matchData['near_dist'] = matchData['near_dist_exp']\n",
    "    matchData = matchData[['wind_dist','uniqueid','matchid','near_dist']]\n",
    "  \n",
    "    # remove exposed records that weren't matched\n",
    "    matchedExposedIds = list(set(matchData['uniqueid']))\n",
    "    matchedExposedInfo = exposedData[exposedData['uniqueid'].isin(matchedExposedIds)]\n",
    " \n",
    "    # inner join the exposed wind metrics and match data. \n",
    "    exposedMatchJoin = matchedExposedInfo.merge(matchData,how='inner',on='uniqueid')\n",
    "    exposedMatchJoin['windCat'] = 0\n",
    "    print(\n",
    "        \"number of input exposed records: %i, number of output exposed records: %i\\n\" \n",
    "          %(exposedData.count()[0],exposedMatchJoin.count()[0])\n",
    "    )\n",
    "    return(exposedMatchJoin)"
   ]
  },
  {
   "cell_type": "markdown",
   "id": "38122b0f",
   "metadata": {},
   "source": [
    "### inner join match and wind metrics for the control gruop.  Add number of matches for each id and control group indicator variable ###\n",
    "**INPUTS:**\n",
    " - matchData (pandas DataFrame) - records for the exposed/control wind matching\n",
    " - controlData (pandas DataFrame) - wind metrics for the control group (bottom quartile of wind exposures)\n",
    "<br>\n",
    "\n",
    "**OUTPUTS:**<br>\n",
    " - pandas dataframe containing joined wind and matched metrics for the control group"
   ]
  },
  {
   "cell_type": "code",
   "execution_count": 10,
   "id": "35cbe5bb",
   "metadata": {},
   "outputs": [],
   "source": [
    "def mergeControlData(matchData,controlData):\n",
    "    \n",
    "    # rename variables so they will be the same for exposed and control records\n",
    "    matchData['wind_dist'] = matchData['ctrl_dist']\n",
    "    matchData['uniqueid'] = matchData['ctrl_id']\n",
    "    matchData['matchid'] = matchData['ctrl_id']\n",
    "    matchData['near_dist'] = matchData['near_dist_ctrl']\n",
    "    matchData = matchData[['wind_dist','uniqueid','matchid','near_dist']]\n",
    "  \n",
    "    \n",
    "    \n",
    "    # remove control records that weren't matched\n",
    "    matchedControlIds = list(set(matchData['uniqueid']))\n",
    "    matchedControlInfo = controlData[controlData['uniqueid'].isin(matchedControlIds)]\n",
    "    \n",
    "    # inner join the control wind metrics and match data. \n",
    "    controlMatchJoin = matchedControlInfo.merge(matchData,how='inner',on='uniqueid')\n",
    "    controlMatchJoin['windCat'] = 1\n",
    "    print(\n",
    "        \"number of input control records: %i, number of output control records: %i\\n\" \n",
    "          %(controlData.count()[0],controlMatchJoin.count()[0])\n",
    "    )\n",
    "    return(controlMatchJoin)"
   ]
  },
  {
   "cell_type": "markdown",
   "id": "7b3c7184",
   "metadata": {},
   "source": [
    "### inner join vital stats with wind metrics for all residences within 500m of high traffic roads ###\n",
    "**INPUTS:**\n",
    " - vitalStatsData (pandas DataFrame) - all vital stats variables\n",
    " - windData (str) - all wind metrics, updated wit exposure categories and n matches\n",
    "<br>\n",
    "\n",
    "**OUTPUTS:**<br>\n",
    " - pandas DataFrame containing vitalStats joined to wind records"
   ]
  },
  {
   "cell_type": "code",
   "execution_count": 1,
   "id": "a300310a",
   "metadata": {},
   "outputs": [],
   "source": [
    "def joinVitalAndWind(vitalData,windData):\n",
    "    \n",
    "    # drop columns already present in the vital stats databasea\n",
    "    windData = windData.drop(\n",
    "        ['b_es_ges', 'b_long', 'b_lat','byear', 'bmonth', 'bday', 'bdate'],axis=1\n",
    "    )\n",
    "    \n",
    "    windVitalJoined = vitalData.merge(windData,how='inner',on='uniqueid')  \n",
    "    \n",
    "    return(windVitalJoined)"
   ]
  },
  {
   "cell_type": "markdown",
   "id": "cd701526",
   "metadata": {},
   "source": [
    "### combine exposed, control, and vital statistics records together ###\n",
    "**INPUTS:**\n",
    " - exposedCohort (pandas dataframe) - contains exposed matches with wind metrics\n",
    " - controlCohort (pandas dataframe) - contains control matches with wind metrics\n",
    " - vitalData (pandas dataframe) - vital statistics records for the cohort\n",
    "<br>\n",
    "\n",
    "**OUTPUTS:**<br>\n",
    " - pandas dataframe containing match, wind, and vital statistics data"
   ]
  },
  {
   "cell_type": "code",
   "execution_count": 3,
   "id": "c543521d",
   "metadata": {},
   "outputs": [],
   "source": [
    "def combineExposedControl(exposedCohort,controlCohort,vitalData):\n",
    "    combinedCategories = []\n",
    "    \n",
    "    # for each match criteria threshold (15,25,50,100m), join match, wind, and vital statistics datasets\n",
    "    for index in range(len(exposedCohort)):\n",
    "        tempData = ps.concat([\n",
    "            exposedCohort[index],\n",
    "            controlCohort[index],\n",
    "        ])\n",
    "        \n",
    "        windWithVitals = joinVitalAndWind(vitalData,tempData)\n",
    "        \n",
    "        combinedCategories.append(windWithVitals)\n",
    "    return(combinedCategories)"
   ]
  },
  {
   "cell_type": "markdown",
   "id": "9de6a42a",
   "metadata": {},
   "source": [
    "<br>\n",
    "\n",
    "## main script  ##\n",
    "<br>\n",
    "<br>"
   ]
  },
  {
   "cell_type": "markdown",
   "id": "803343f9",
   "metadata": {},
   "source": [
    "### load datasets into memory ###"
   ]
  },
  {
   "cell_type": "code",
   "execution_count": 20,
   "id": "505b5493",
   "metadata": {},
   "outputs": [],
   "source": [
    "vitalData,exposedData,controlData,allWindData,unrestrictedMatchData,restrictedMatchData = loadData(\n",
    "    const.VITAL_STATS_FILEPATH, const.EXPOSED_FILEPATH,const.CONTROL_FILEPATH,const.WIND_METRICS,\n",
    "    const.SELECTED_MATCH_FILES,const.SELECTED_MATCH_FILES_RESTRICT\n",
    ")"
   ]
  },
  {
   "cell_type": "markdown",
   "id": "ec8efa5c",
   "metadata": {},
   "source": [
    "### join about exposed match data with wind metrics ###"
   ]
  },
  {
   "cell_type": "code",
   "execution_count": null,
   "id": "8cf6b547",
   "metadata": {},
   "outputs": [],
   "source": [
    "exposedWithMatchesUnrestricted,exposedWithMatchesRestricted = [],[]\n",
    "for index in range(len(unrestrictedMatchData)):\n",
    "    exposedWithMatchesUnrestricted.append(mergeExposedData(unrestrictedMatchData[index],exposedData))\n",
    "    exposedWithMatchesRestricted.append(mergeExposedData(restrictedMatchData[index],exposedData))"
   ]
  },
  {
   "cell_type": "markdown",
   "id": "90076f30",
   "metadata": {},
   "source": [
    "### join about exposed match data with wind metrics ###"
   ]
  },
  {
   "cell_type": "code",
   "execution_count": null,
   "id": "43109012",
   "metadata": {},
   "outputs": [],
   "source": [
    "controlWithMatchesUnrestricted,controlWithMatchesRestricted = [],[]\n",
    "for index in range(len(unrestrictedMatchData)):\n",
    "    controlWithMatchesUnrestricted.append(mergeControlData(unrestrictedMatchData[index],controlData))\n",
    "    controlWithMatchesRestricted.append(mergeControlData(restrictedMatchData[index],controlData))"
   ]
  },
  {
   "cell_type": "markdown",
   "id": "b63d5b30",
   "metadata": {},
   "source": [
    "### join exposed and control datasets, now including wind metrics ###"
   ]
  },
  {
   "cell_type": "code",
   "execution_count": null,
   "id": "afb9f15a",
   "metadata": {},
   "outputs": [],
   "source": [
    "combinedCohortUnrestricted = combineExposedControl(exposedWithMatchesUnrestricted,controlWithMatchesUnrestricted,vitalData)\n",
    "combinedCohort37to42 = combineExposedControl(exposedWithMatchesRestricted,controlWithMatchesRestricted,vitalData)"
   ]
  },
  {
   "cell_type": "markdown",
   "id": "7a0fcf9e",
   "metadata": {},
   "source": [
    "### save records to csv ###"
   ]
  },
  {
   "cell_type": "code",
   "execution_count": null,
   "id": "a4a14461",
   "metadata": {},
   "outputs": [],
   "source": [
    "# keep track of location in array.  Arrays hold epi data for all sample/match criteria combinations\n",
    "index = 0\n",
    "\n",
    "# for 1:1 and 1:4 matching:\n",
    "for sampleCrit in const.sampleNumber:\n",
    "    \n",
    "    # for each match criteria in (15,25,50,100), \n",
    "    for matchCrit in const.matchQuality:\n",
    "        \n",
    "        # save unrestricted records\n",
    "        filename = const.EPI_FOLDER + \"wind_epi_\" + str(sampleCrit) + \"_\" + str(matchCrit) + \"_\" + \"all_Jan27.csv\"\n",
    "        if not(os.path.exists(filename)):\n",
    "            combinedCohortUnrestricted[index].to_csv(filename,index=False)\n",
    "            \n",
    "        # save records restricted from 37 to 42 weeks\n",
    "        filename = const.EPI_FOLDER + \"wind_epi_\" + str(sampleCrit) + \"_\" + str(matchCrit) + \"_\" + \"37to42_Jan27.csv\"\n",
    "        if not(os.path.exists(filename)):\n",
    "            combinedCohort37to42[index].to_csv(filename,index=False)\n",
    "        index+=1\n",
    "        print(\"finished sampleCrit %i and matchCrit %i\" %(sampleCrit,matchCrit))"
   ]
  }
 ],
 "metadata": {
  "kernelspec": {
   "display_name": "Python 3 (ipykernel)",
   "language": "python",
   "name": "python3"
  },
  "language_info": {
   "codemirror_mode": {
    "name": "ipython",
    "version": 3
   },
   "file_extension": ".py",
   "mimetype": "text/x-python",
   "name": "python",
   "nbconvert_exporter": "python",
   "pygments_lexer": "ipython3",
   "version": "3.8.3"
  }
 },
 "nbformat": 4,
 "nbformat_minor": 5
}
