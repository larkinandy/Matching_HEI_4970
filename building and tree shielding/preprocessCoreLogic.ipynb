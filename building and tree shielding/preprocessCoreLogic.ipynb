{
 "cells": [
  {
   "cell_type": "markdown",
   "id": "d28979d1",
   "metadata": {},
   "source": [
    "# preprocessCoreLogic #\n",
    "**Author:** Andrew Larkin <br>\n",
    "Developed for the HEI Transit Study <br>\n",
    "**Summary:** given a large core logic csv file, reduce the variables to those needed for the wind analysis and restrict to within 5km of maternal residences"
   ]
  },
  {
   "cell_type": "markdown",
   "id": "dfd45255",
   "metadata": {},
   "source": [
    "## part 1: import libraries and define global constants ##"
   ]
  },
  {
   "cell_type": "code",
   "execution_count": 1,
   "id": "3118a81d",
   "metadata": {},
   "outputs": [],
   "source": [
    "import pandas as ps\n",
    "import os\n",
    "import arcpy\n",
    "import const as gConst\n",
    "arcpy.env.overwriteOutput=True"
   ]
  },
  {
   "cell_type": "code",
   "execution_count": 2,
   "id": "4ba96bae",
   "metadata": {},
   "outputs": [],
   "source": [
    "PARENT_FOLDER = const.WIND_FOLDER + \"Corelogic_Building_Years/\"\n",
    "CORE_LOGIC_FILE = PARENT_FOLDER + \"CoreLogicData/TaxCompiled.csv\""
   ]
  },
  {
   "cell_type": "markdown",
   "id": "a7465e27",
   "metadata": {},
   "source": [
    "## part 2: load corelogic into python and remove unneeded variables and records without GIS coordinates ###"
   ]
  },
  {
   "cell_type": "code",
   "execution_count": 20,
   "id": "e1191c40",
   "metadata": {},
   "outputs": [
    {
     "name": "stderr",
     "output_type": "stream",
     "text": [
      "C:\\Program Files\\ArcGIS\\Pro\\bin\\Python\\envs\\arcgispro-py3\\lib\\site-packages\\IPython\\core\\interactiveshell.py:3063: DtypeWarning: Columns (1,4,5,6,7,11,15,22,23,24,25,26,27,28,29,30,31,32,33,34,35,36,37,38,39,40,41,42,43,44,45) have mixed types.Specify dtype option on import or set low_memory=False.\n",
      "  interactivity=interactivity, compiler=compiler, result=result)\n"
     ]
    },
    {
     "data": {
      "text/html": [
       "<div>\n",
       "<style scoped>\n",
       "    .dataframe tbody tr th:only-of-type {\n",
       "        vertical-align: middle;\n",
       "    }\n",
       "\n",
       "    .dataframe tbody tr th {\n",
       "        vertical-align: top;\n",
       "    }\n",
       "\n",
       "    .dataframe thead th {\n",
       "        text-align: right;\n",
       "    }\n",
       "</style>\n",
       "<table border=\"1\" class=\"dataframe\">\n",
       "  <thead>\n",
       "    <tr style=\"text-align: right;\">\n",
       "      <th></th>\n",
       "      <th>fipscode</th>\n",
       "      <th>apnparcelnumberunformatted</th>\n",
       "      <th>apnsequencenumber</th>\n",
       "      <th>compositepropertylinkagekey</th>\n",
       "      <th>previousparcelnumber</th>\n",
       "      <th>situshousenumber</th>\n",
       "      <th>situshousenumbersuffix</th>\n",
       "      <th>situshousenumber2</th>\n",
       "      <th>situsdirection</th>\n",
       "      <th>situsstreetname</th>\n",
       "      <th>...</th>\n",
       "      <th>apnparcelnumberunformatted_03</th>\n",
       "      <th>previousparcelnumber_03</th>\n",
       "      <th>apnparcelnumberunformatted_02</th>\n",
       "      <th>previousparcelnumber_02</th>\n",
       "      <th>apnparcelnumberunformatted_01</th>\n",
       "      <th>previousparcelnumber_01</th>\n",
       "      <th>lastobserved</th>\n",
       "      <th>firstobserved</th>\n",
       "      <th>missingyearbuilt</th>\n",
       "      <th>disappears</th>\n",
       "    </tr>\n",
       "  </thead>\n",
       "  <tbody>\n",
       "    <tr>\n",
       "      <th>0</th>\n",
       "      <td>48001</td>\n",
       "      <td>M100045</td>\n",
       "      <td>1</td>\n",
       "      <td>48001M100045                                  ...</td>\n",
       "      <td>NaN</td>\n",
       "      <td>1838</td>\n",
       "      <td>NaN</td>\n",
       "      <td>NaN</td>\n",
       "      <td>E</td>\n",
       "      <td>FM 323</td>\n",
       "      <td>...</td>\n",
       "      <td>NaN</td>\n",
       "      <td>NaN</td>\n",
       "      <td>NaN</td>\n",
       "      <td>NaN</td>\n",
       "      <td>NaN</td>\n",
       "      <td>NaN</td>\n",
       "      <td>12</td>\n",
       "      <td>12</td>\n",
       "      <td>0</td>\n",
       "      <td>1</td>\n",
       "    </tr>\n",
       "    <tr>\n",
       "      <th>1</th>\n",
       "      <td>48001</td>\n",
       "      <td>M100170</td>\n",
       "      <td>1</td>\n",
       "      <td>48001M100170                                  ...</td>\n",
       "      <td>NaN</td>\n",
       "      <td>620</td>\n",
       "      <td>NaN</td>\n",
       "      <td>NaN</td>\n",
       "      <td>NaN</td>\n",
       "      <td>AN COUNTY ROAD 2419</td>\n",
       "      <td>...</td>\n",
       "      <td>NaN</td>\n",
       "      <td>NaN</td>\n",
       "      <td>NaN</td>\n",
       "      <td>NaN</td>\n",
       "      <td>NaN</td>\n",
       "      <td>NaN</td>\n",
       "      <td>12</td>\n",
       "      <td>12</td>\n",
       "      <td>0</td>\n",
       "      <td>1</td>\n",
       "    </tr>\n",
       "    <tr>\n",
       "      <th>2</th>\n",
       "      <td>48001</td>\n",
       "      <td>M100343</td>\n",
       "      <td>1</td>\n",
       "      <td>48001M100343                                  ...</td>\n",
       "      <td>NaN</td>\n",
       "      <td>1769</td>\n",
       "      <td>NaN</td>\n",
       "      <td>NaN</td>\n",
       "      <td>NaN</td>\n",
       "      <td>AN COUNTY ROAD 2419</td>\n",
       "      <td>...</td>\n",
       "      <td>NaN</td>\n",
       "      <td>NaN</td>\n",
       "      <td>NaN</td>\n",
       "      <td>NaN</td>\n",
       "      <td>NaN</td>\n",
       "      <td>NaN</td>\n",
       "      <td>12</td>\n",
       "      <td>12</td>\n",
       "      <td>0</td>\n",
       "      <td>1</td>\n",
       "    </tr>\n",
       "    <tr>\n",
       "      <th>3</th>\n",
       "      <td>48001</td>\n",
       "      <td>M100353</td>\n",
       "      <td>1</td>\n",
       "      <td>48001M100353                                  ...</td>\n",
       "      <td>NaN</td>\n",
       "      <td>4671</td>\n",
       "      <td>NaN</td>\n",
       "      <td>NaN</td>\n",
       "      <td>NaN</td>\n",
       "      <td>FM 322</td>\n",
       "      <td>...</td>\n",
       "      <td>NaN</td>\n",
       "      <td>NaN</td>\n",
       "      <td>NaN</td>\n",
       "      <td>NaN</td>\n",
       "      <td>NaN</td>\n",
       "      <td>NaN</td>\n",
       "      <td>12</td>\n",
       "      <td>12</td>\n",
       "      <td>0</td>\n",
       "      <td>1</td>\n",
       "    </tr>\n",
       "    <tr>\n",
       "      <th>4</th>\n",
       "      <td>48001</td>\n",
       "      <td>M100408</td>\n",
       "      <td>1</td>\n",
       "      <td>48001M100408                                  ...</td>\n",
       "      <td>NaN</td>\n",
       "      <td>2463</td>\n",
       "      <td>NaN</td>\n",
       "      <td>NaN</td>\n",
       "      <td>NaN</td>\n",
       "      <td>AN COUNTY ROAD 318</td>\n",
       "      <td>...</td>\n",
       "      <td>NaN</td>\n",
       "      <td>NaN</td>\n",
       "      <td>NaN</td>\n",
       "      <td>NaN</td>\n",
       "      <td>NaN</td>\n",
       "      <td>NaN</td>\n",
       "      <td>12</td>\n",
       "      <td>12</td>\n",
       "      <td>0</td>\n",
       "      <td>1</td>\n",
       "    </tr>\n",
       "  </tbody>\n",
       "</table>\n",
       "<p>5 rows × 50 columns</p>\n",
       "</div>"
      ],
      "text/plain": [
       "   fipscode apnparcelnumberunformatted  apnsequencenumber  \\\n",
       "0     48001                    M100045                  1   \n",
       "1     48001                    M100170                  1   \n",
       "2     48001                    M100343                  1   \n",
       "3     48001                    M100353                  1   \n",
       "4     48001                    M100408                  1   \n",
       "\n",
       "                         compositepropertylinkagekey previousparcelnumber  \\\n",
       "0  48001M100045                                  ...                  NaN   \n",
       "1  48001M100170                                  ...                  NaN   \n",
       "2  48001M100343                                  ...                  NaN   \n",
       "3  48001M100353                                  ...                  NaN   \n",
       "4  48001M100408                                  ...                  NaN   \n",
       "\n",
       "  situshousenumber situshousenumbersuffix situshousenumber2 situsdirection  \\\n",
       "0             1838                    NaN               NaN              E   \n",
       "1              620                    NaN               NaN            NaN   \n",
       "2             1769                    NaN               NaN            NaN   \n",
       "3             4671                    NaN               NaN            NaN   \n",
       "4             2463                    NaN               NaN            NaN   \n",
       "\n",
       "       situsstreetname  ... apnparcelnumberunformatted_03  \\\n",
       "0               FM 323  ...                           NaN   \n",
       "1  AN COUNTY ROAD 2419  ...                           NaN   \n",
       "2  AN COUNTY ROAD 2419  ...                           NaN   \n",
       "3               FM 322  ...                           NaN   \n",
       "4   AN COUNTY ROAD 318  ...                           NaN   \n",
       "\n",
       "  previousparcelnumber_03 apnparcelnumberunformatted_02  \\\n",
       "0                     NaN                           NaN   \n",
       "1                     NaN                           NaN   \n",
       "2                     NaN                           NaN   \n",
       "3                     NaN                           NaN   \n",
       "4                     NaN                           NaN   \n",
       "\n",
       "  previousparcelnumber_02 apnparcelnumberunformatted_01  \\\n",
       "0                     NaN                           NaN   \n",
       "1                     NaN                           NaN   \n",
       "2                     NaN                           NaN   \n",
       "3                     NaN                           NaN   \n",
       "4                     NaN                           NaN   \n",
       "\n",
       "  previousparcelnumber_01  lastobserved  firstobserved  missingyearbuilt  \\\n",
       "0                     NaN            12             12                 0   \n",
       "1                     NaN            12             12                 0   \n",
       "2                     NaN            12             12                 0   \n",
       "3                     NaN            12             12                 0   \n",
       "4                     NaN            12             12                 0   \n",
       "\n",
       "   disappears  \n",
       "0           1  \n",
       "1           1  \n",
       "2           1  \n",
       "3           1  \n",
       "4           1  \n",
       "\n",
       "[5 rows x 50 columns]"
      ]
     },
     "execution_count": 20,
     "metadata": {},
     "output_type": "execute_result"
    }
   ],
   "source": [
    "coreLogicData = ps.read_csv(CORE_LOGIC_FILE)\n",
    "coreLogicData.head()"
   ]
  },
  {
   "cell_type": "code",
   "execution_count": 21,
   "id": "0b856516",
   "metadata": {},
   "outputs": [
    {
     "name": "stdout",
     "output_type": "stream",
     "text": [
      "Index(['fipscode', 'apnparcelnumberunformatted', 'apnsequencenumber',\n",
      "       'compositepropertylinkagekey', 'previousparcelnumber',\n",
      "       'situshousenumber', 'situshousenumbersuffix', 'situshousenumber2',\n",
      "       'situsdirection', 'situsstreetname', 'situsmode', 'situsquadrant',\n",
      "       'situsunitnumber', 'situscity', 'situsstate', 'situszipcode',\n",
      "       'yearbuilt', 'storiesnumber', 'blocklevellatitude',\n",
      "       'blocklevellongitude', 'parcellevellatitude', 'parcellevellongitude',\n",
      "       'apnparcelnumberunformatted_12', 'previousparcelnumber_12',\n",
      "       'apnparcelnumberunformatted_11', 'previousparcelnumber_11',\n",
      "       'apnparcelnumberunformatted_10', 'previousparcelnumber_10',\n",
      "       'apnparcelnumberunformatted_09', 'previousparcelnumber_09',\n",
      "       'apnparcelnumberunformatted_08', 'previousparcelnumber_08',\n",
      "       'apnparcelnumberunformatted_07', 'previousparcelnumber_07',\n",
      "       'apnparcelnumberunformatted_06', 'previousparcelnumber_06',\n",
      "       'apnparcelnumberunformatted_05', 'previousparcelnumber_05',\n",
      "       'apnparcelnumberunformatted_04', 'previousparcelnumber_04',\n",
      "       'apnparcelnumberunformatted_03', 'previousparcelnumber_03',\n",
      "       'apnparcelnumberunformatted_02', 'previousparcelnumber_02',\n",
      "       'apnparcelnumberunformatted_01', 'previousparcelnumber_01',\n",
      "       'lastobserved', 'firstobserved', 'missingyearbuilt', 'disappears'],\n",
      "      dtype='object')\n",
      "10026488\n"
     ]
    }
   ],
   "source": [
    "print(coreLogicData.keys())\n",
    "print(coreLogicData.count()[0])"
   ]
  },
  {
   "cell_type": "code",
   "execution_count": 22,
   "id": "3f9643d1",
   "metadata": {},
   "outputs": [],
   "source": [
    "coreLogicData['yearbuilt'] = coreLogicData['yearbuilt'].fillna(-1)\n",
    "coreLogicData['yearbuilt'] = coreLogicData['yearbuilt'].astype(int)"
   ]
  },
  {
   "cell_type": "code",
   "execution_count": 23,
   "id": "58763ccc",
   "metadata": {},
   "outputs": [],
   "source": [
    "reduced = coreLogicData[['yearbuilt','storiesnumber','parcellevellatitude','parcellevellongitude']]\n",
    "reduced = reduced[reduced['parcellevellatitude']>0]\n",
    "reduced = reduced[reduced['parcellevellongitude']>-200]\n",
    "reduced['storiesnumber'] = reduced['storiesnumber'].fillna(-1)\n",
    "reduced['storiesnumber'] = reduced['storiesnumber'].astype(int)\n",
    "reduced.to_csv(PARENT_FOLDER + \"CoreLogicData/reduced.csv\",index=False)"
   ]
  },
  {
   "cell_type": "markdown",
   "id": "431eedc0",
   "metadata": {},
   "source": [
    "## part 3: load reduced core logic records into GIS  ##"
   ]
  },
  {
   "cell_type": "code",
   "execution_count": 5,
   "id": "fe7d8ffd",
   "metadata": {},
   "outputs": [
    {
     "data": {
      "text/html": [
       "<h2>Output</h2>X:\\BPHS\\HEI_Transit_Study\\Andy\\intermediateProducts<h2>Messages</h2>Start Time: Thursday, October 7, 2021 12:52:08 PM<br/>coreLogicLayer Successfully converted:  X:/BPHS/HEI_Transit_Study/Andy/intermediateProducts.gdb\\coreLogicLayer<br/>Succeeded at Thursday, October 7, 2021 1:02:23 PM (Elapsed Time: 10 minutes 14 seconds)<br/><style>.rendered_html td, .rendered_html th {text-align: left;}.rendered_html tbody {border: 1px solid black;}</style>"
      ],
      "text/plain": [
       "<Result 'X:\\\\BPHS\\\\HEI_Transit_Study\\\\Andy\\\\intermediateProducts'>"
      ]
     },
     "execution_count": 5,
     "metadata": {},
     "output_type": "execute_result"
    }
   ],
   "source": [
    "#  These values based on your script\n",
    "XFieldName = 'parcellevellongitude'\n",
    "YFieldName = 'parcellevellatitude'\n",
    "outFolder = PARENT_FOLDER + \"/\"\n",
    "spatialRef = arcpy.SpatialReference(4326)\n",
    "csvFilePath = PARENT_FOLDER + \"CoreLogicData/reduced.csv\"\n",
    "coreLogicLayer = \"coreLogicLayer\"\n",
    "coreLogicShapefile = const.WIND_FOLDER + \"temp/intermediateProducts.gdb\"\n",
    "arcpy.MakeXYEventLayer_management(csvFilePath, XFieldName, YFieldName, coreLogicLayer, spatial_reference=spatialRef)\n",
    "arcpy.FeatureClassToShapefile_conversion(coreLogicLayer, coreLogicShapefile)"
   ]
  },
  {
   "cell_type": "markdown",
   "id": "2e938caf",
   "metadata": {},
   "source": [
    "## part 4: restrict core logic data points to within 5km of maternal residence locations ##"
   ]
  },
  {
   "cell_type": "code",
   "execution_count": null,
   "id": "a718afc2",
   "metadata": {},
   "outputs": [],
   "source": [
    "residenceLocations = const.WIND_FOLDER + \"Birth_Addresses_Wind/births_shapefile/Births0716_Wind.shp\"\n",
    "outTable = const.WIND_FOLDER + \"temp/intermediateProducts.gdb/coreNearResidence\"\n",
    "arcpy.GenerateNearTable_analysis(coreLogicLayer, residenceLocations, outTable, \"5000 Meters\")"
   ]
  }
 ],
 "metadata": {
  "kernelspec": {
   "display_name": "Python 3 (ipykernel)",
   "language": "python",
   "name": "python3"
  },
  "language_info": {
   "codemirror_mode": {
    "name": "ipython",
    "version": 3
   },
   "file_extension": ".py",
   "mimetype": "text/x-python",
   "name": "python",
   "nbconvert_exporter": "python",
   "pygments_lexer": "ipython3",
   "version": "3.9.13"
  }
 },
 "nbformat": 4,
 "nbformat_minor": 5
}
