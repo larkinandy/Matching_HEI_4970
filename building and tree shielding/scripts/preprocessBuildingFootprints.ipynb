{
 "cells": [
  {
   "cell_type": "markdown",
   "metadata": {},
   "source": [
    "# preprocessBuildingFootprints #\n",
    "**Author:** Andrew Larkin <br>\n",
    "Developed for the HEI Transit Study <br>\n",
    "**Summary:** given the Microsoft Bing footprints dataset for Texas, convert to shp format and restrict to within 5km of maternal residences"
   ]
  },
  {
   "cell_type": "markdown",
   "metadata": {},
   "source": [
    "## part 1: load libraries and static global constants ##"
   ]
  },
  {
   "cell_type": "code",
   "execution_count": 1,
   "metadata": {},
   "outputs": [],
   "source": [
    "import pandas as ps\n",
    "import os\n",
    "import arcpy\n",
    "import gConst as const\n",
    "arcpy.env.overwriteOutput=True\n"
   ]
  },
  {
   "cell_type": "code",
   "execution_count": 2,
   "metadata": {},
   "outputs": [],
   "source": [
    "PARENT_FOLDER = const.WIND_FOLDER + \"Corelogic_Building_Years/\"\n",
    "FOOTPRINT_FOLDER = PARENT_FOLDER + \"BuildingFootprints/Texas.geojson\""
   ]
  },
  {
   "cell_type": "markdown",
   "metadata": {},
   "source": [
    "## part 2: convert to shp format ##"
   ]
  },
  {
   "cell_type": "code",
   "execution_count": null,
   "metadata": {},
   "outputs": [],
   "source": [
    "arcpy.JSONToFeatures_conversion(FOOTPRINT_FOLDER,PARENT_FOLDER + \"BuildingFootprints/Texas.shp\")"
   ]
  },
  {
   "cell_type": "markdown",
   "metadata": {},
   "source": [
    "## part 3: restrict records to within 5km of maternal residences ##"
   ]
  },
  {
   "cell_type": "code",
   "execution_count": 2,
   "metadata": {},
   "outputs": [
    {
     "data": {
      "text/html": [
       "<h2>Output</h2><table><tr><th>id</th><th>value</th></tr><tr><td>0</td><td>a Layer object</td></tr><tr><td>1</td><td>Texas_Layer2</td></tr><tr><td>2</td><td>5627589</td></tr></table><h2>Messages</h2>Start Time: Tuesday, October 12, 2021 12:41:57 PM<br/>Succeeded at Tuesday, October 12, 2021 1:02:06 PM (Elapsed Time: 20 minutes 8 seconds)<br/><style>.rendered_html td, .rendered_html th {text-align: left;}.rendered_html tbody {border: 1px solid black;}</style>"
      ],
      "text/plain": [
       "<Result 'Texas_Layer2'>"
      ]
     },
     "execution_count": 2,
     "metadata": {},
     "output_type": "execute_result"
    }
   ],
   "source": [
    "arcpy.SelectLayerByLocation_management(PARENT_FOLDER + \"bingFootprints/footprints.gdb/Texas\", 'WITHIN_A_DISTANCE', \n",
    "                                       PARENT_FOLDER + \"temp/Births0716_Wind.shp\", \"5000 Meters\")"
   ]
  },
  {
   "cell_type": "code",
   "execution_count": null,
   "metadata": {},
   "outputs": [],
   "source": [
    "arcpy.CopyFeatures_management(PARENT_FOLDER + \"bingFootprints/footprints.gdb/Texas\", PARENT_FOLDER + \"temp/footprintsNearResidence.shp\")"
   ]
  }
 ],
 "metadata": {
  "kernelspec": {
   "display_name": "Python 3 (ipykernel)",
   "language": "python",
   "name": "python3"
  },
  "language_info": {
   "codemirror_mode": {
    "name": "ipython",
    "version": 3
   },
   "file_extension": ".py",
   "mimetype": "text/x-python",
   "name": "python",
   "nbconvert_exporter": "python",
   "pygments_lexer": "ipython3",
   "version": "3.9.13"
  }
 },
 "nbformat": 4,
 "nbformat_minor": 4
}
