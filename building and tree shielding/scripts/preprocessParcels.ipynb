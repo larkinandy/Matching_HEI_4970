{
 "cells": [
  {
   "cell_type": "markdown",
   "metadata": {},
   "source": [
    "# preprocessParcels #\n",
    "**Author:** Andrew Larkin <br>\n",
    "Developed for the HEI Transit Study <br>\n",
    "**Summary:** given parcel, core logic, and building footprint data, join datasets and combine to create year subsets of building footprints based on a year built variable"
   ]
  },
  {
   "cell_type": "markdown",
   "metadata": {},
   "source": [
    "## part 1: load libraries and define global constants ##"
   ]
  },
  {
   "cell_type": "code",
   "execution_count": null,
   "metadata": {},
   "outputs": [],
   "source": [
    "import arcpy\n",
    "import os\n",
    "import glob\n",
    "import pandas as ps\n",
    "import gConst as const\n",
    "arcpy.env.overwiteOutput = True"
   ]
  },
  {
   "cell_type": "code",
   "execution_count": null,
   "metadata": {},
   "outputs": [],
   "source": [
    "PARENT_FOLDER = const.WIND_FOLDER + \"temp/\"\n",
    "PARCEL_FOLDER = PARENT_FOLDER + \"parcels/\"\n",
    "MERGED_PARCELS = PARENT_FOLDER + \"MyProject6/MyProject6.gdb/mergedParcels\"\n",
    "WORKSPACE = PARENT_FOLDER + \"MyProject6/MyProject6.gdb\"\n",
    "PARCELS_NEAR = PARENT_FOLDER + \"MyProject6/MyProject6.gdb/parcelsNearResidence\"\n",
    "FOOTPRINTS_NEAR = PARENT_FOLDER + \"footprintsNearResidence.shp\"\n",
    "CORE_NEAR = PARENT_FOLDER + \"coreLogicNearResidence.shp\""
   ]
  },
  {
   "cell_type": "markdown",
   "metadata": {},
   "source": [
    "## part 2: link parcels with building footprints and core logic datasets##"
   ]
  },
  {
   "cell_type": "markdown",
   "metadata": {},
   "source": [
    "### get list of parcel files given a nested folder struture ###\n",
    "INPUTS: <br>\n",
    "    **- parent_folder** (str) - absolute filepath to the folder containing all parcel subfolders <br>\n",
    "OUTPUTS:<br>\n",
    "    **- filesToMerge** (str list) - list of absoluste filepaths for files to merge"
   ]
  },
  {
   "cell_type": "code",
   "execution_count": null,
   "metadata": {},
   "outputs": [],
   "source": [
    "def getParcelFiles(parent_folder):\n",
    "    subFolders = os.listdir(parent_folder)\n",
    "    filesToMerge = []\n",
    "    for folder in subFolders:\n",
    "        secondSubFolder = parent_folder + folder + \"/shp/\"\n",
    "        if(os.path.exists(secondSubFolder)):\n",
    "            shpFile = glob.glob(secondSubFolder + \"*.shp\")\n",
    "            filesToMerge += shpFile\n",
    "    return(filesToMerge)"
   ]
  },
  {
   "cell_type": "code",
   "execution_count": null,
   "metadata": {},
   "outputs": [],
   "source": [
    "filesToMerge = getParcelFiles(PARCEL_FOLDER)\n",
    "# combine individual parcels into a single geodatabase \n",
    "arcpy.Merge_management(filesToMerge, MERGED_PARCELS)"
   ]
  },
  {
   "cell_type": "code",
   "execution_count": null,
   "metadata": {},
   "outputs": [],
   "source": [
    "# join building footprints near residence with parcels\n",
    "arcpy.SpatialJoin_analysis(\n",
    "    FOOTPRINTS_NEAR, PARCELS_NEAR, WORKSPACE + \"\\joinTemp1\", \n",
    "    \"JOIN_ONE_TO_ONE\", \"KEEP_ALL\", 'release \"release\" true true false 10 Long 0 10,First,#,footprintsNearResidence,release,-1,-1;capture_da \"capture_da\" true true false 254 Text 0 0,First,#,footprintsNearResidence,capture_da,0,254;Shape_Leng \"Shape_Leng\" true true false 19 Double 0 0,First,#,footprintsNearResidence,Shape_Leng,-1,-1;Shape_Area \"Shape_Area\" true true false 19 Double 0 0,First,#,footprintsNearResidence,Shape_Area,-1,-1;PROP_ID \"PROP_ID\" true true false 70 Text 0 0,First,#,parcelsNearResidence,PROP_ID,0,70;GEO_ID \"GEO_ID\" true true false 50 Text 0 0,First,#,parcelsNearResidence,GEO_ID,0,50;OWNER_NAME \"OWNER_NAME\" true true false 254 Text 0 0,First,#,parcelsNearResidence,OWNER_NAME,0,254;NAME_CARE \"NAME_CARE\" true true false 254 Text 0 0,First,#,parcelsNearResidence,NAME_CARE,0,254;LEGAL_AREA \"LEGAL_AREA\" true true false 8 Double 0 0,First,#,parcelsNearResidence,LEGAL_AREA,-1,-1;LGL_AREA_U \"LGL_AREA_U\" true true false 8 Text 0 0,First,#,parcelsNearResidence,LGL_AREA_U,0,8;GIS_AREA \"GIS_AREA\" true true false 8 Double 0 0,First,#,parcelsNearResidence,GIS_AREA,-1,-1;GIS_AREA_U \"GIS_AREA_U\" true true false 8 Text 0 0,First,#,parcelsNearResidence,GIS_AREA_U,0,8;LEGAL_DESC \"LEGAL_DESC\" true true false 254 Text 0 0,First,#,parcelsNearResidence,LEGAL_DESC,0,254;STAT_LAND_ \"STAT_LAND_\" true true false 5 Text 0 0,First,#,parcelsNearResidence,STAT_LAND_,0,5;LOC_LAND_U \"LOC_LAND_U\" true true false 5 Text 0 0,First,#,parcelsNearResidence,LOC_LAND_U,0,5;LAND_VALUE \"LAND_VALUE\" true true false 8 Double 0 0,First,#,parcelsNearResidence,LAND_VALUE,-1,-1;IMP_VALUE \"IMP_VALUE\" true true false 8 Double 0 0,First,#,parcelsNearResidence,IMP_VALUE,-1,-1;MKT_VALUE \"MKT_VALUE\" true true false 8 Double 0 0,First,#,parcelsNearResidence,MKT_VALUE,-1,-1;SITUS_ADDR \"SITUS_ADDR\" true true false 254 Text 0 0,First,#,parcelsNearResidence,SITUS_ADDR,0,254;SITUS_NUM \"SITUS_NUM\" true true false 15 Text 0 0,First,#,parcelsNearResidence,SITUS_NUM,0,15;SITUS_STRE \"SITUS_STRE\" true true false 10 Text 0 0,First,#,parcelsNearResidence,SITUS_STRE,0,10;SITUS_ST_1 \"SITUS_ST_1\" true true false 60 Text 0 0,First,#,parcelsNearResidence,SITUS_ST_1,0,60;SITUS_ST_2 \"SITUS_ST_2\" true true false 60 Text 0 0,First,#,parcelsNearResidence,SITUS_ST_2,0,60;SITUS_CITY \"SITUS_CITY\" true true false 60 Text 0 0,First,#,parcelsNearResidence,SITUS_CITY,0,60;SITUS_STAT \"SITUS_STAT\" true true false 2 Text 0 0,First,#,parcelsNearResidence,SITUS_STAT,0,2;SITUS_ZIP \"SITUS_ZIP\" true true false 5 Text 0 0,First,#,parcelsNearResidence,SITUS_ZIP,0,5;MAIL_ADDR \"MAIL_ADDR\" true true false 254 Text 0 0,First,#,parcelsNearResidence,MAIL_ADDR,0,254;MAIL_LINE1 \"MAIL_LINE1\" true true false 60 Text 0 0,First,#,parcelsNearResidence,MAIL_LINE1,0,60;MAIL_LINE2 \"MAIL_LINE2\" true true false 60 Text 0 0,First,#,parcelsNearResidence,MAIL_LINE2,0,60;MAIL_CITY \"MAIL_CITY\" true true false 60 Text 0 0,First,#,parcelsNearResidence,MAIL_CITY,0,60;MAIL_STAT \"MAIL_STAT\" true true false 2 Text 0 0,First,#,parcelsNearResidence,MAIL_STAT,0,2;MAIL_ZIP \"MAIL_ZIP\" true true false 5 Text 0 0,First,#,parcelsNearResidence,MAIL_ZIP,0,5;SOURCE \"SOURCE\" true true false 100 Text 0 0,First,#,parcelsNearResidence,SOURCE,0,100;DATE_ACQ \"DATE_ACQ\" true true false 4 Long 0 0,First,#,parcelsNearResidence,DATE_ACQ,-1,-1;FIPS \"FIPS\" true true false 5 Text 0 0,First,#,parcelsNearResidence,FIPS,0,5;COUNTY \"COUNTY\" true true false 60 Text 0 0,First,#,parcelsNearResidence,COUNTY,0,60;TAX_YEAR \"TAX_YEAR\" true true false 4 Long 0 0,First,#,parcelsNearResidence,TAX_YEAR,-1,-1;YEAR_BUILT \"YEAR_BUILT\" true true false 4 Long 0 0,First,#,parcelsNearResidence,YEAR_BUILT,-1,-1;SHAPE_Leng_1 \"Shape_Leng\" true true false 8 Double 0 0,First,#,parcelsNearResidence,SHAPE_Leng,-1,-1;LAND_USE \"LAND_USE\" true true false 5 Text 0 0,First,#,parcelsNearResidence,LAND_USE,0,5;Shape_Length \"Shape_Length\" false true true 8 Double 0 0,First,#,parcelsNearResidence,Shape_Length,-1,-1;Shape_Area_1 \"Shape_Area\" false true true 8 Double 0 0,First,#,parcelsNearResidence,Shape_Area,-1,-1', \n",
    "    \"INTERSECT\", \"1 Meters\", '')"
   ]
  },
  {
   "cell_type": "code",
   "execution_count": null,
   "metadata": {},
   "outputs": [],
   "source": [
    "# join parcels with core logic points near residence\n",
    "arcpy.SpatialJoin_analysis(\n",
    "    CORE_NEAR, PARCELS_NEAR, WORKSPACE + \"\\joinTemp2\", \n",
    "    \"JOIN_ONE_TO_ONE\", \"KEEP_ALL\", 'yearbuilt \"yearbuilt\" true true false 10 Long 0 10,First,#,coreLogicNearResidence,yearbuilt,-1,-1;storiesnum \"storiesnum\" true true false 10 Long 0 10,First,#,coreLogicNearResidence,storiesnum,-1,-1;parcelleve \"parcelleve\" true true false 19 Double 0 0,First,#,coreLogicNearResidence,parcelleve,-1,-1;parcelle_1 \"parcelle_1\" true true false 19 Double 0 0,First,#,coreLogicNearResidence,parcelle_1,-1,-1;PROP_ID \"PROP_ID\" true true false 70 Text 0 0,First,#,parcelsNearResidence,PROP_ID,0,70;GEO_ID \"GEO_ID\" true true false 50 Text 0 0,First,#,parcelsNearResidence,GEO_ID,0,50;OWNER_NAME \"OWNER_NAME\" true true false 254 Text 0 0,First,#,parcelsNearResidence,OWNER_NAME,0,254;NAME_CARE \"NAME_CARE\" true true false 254 Text 0 0,First,#,parcelsNearResidence,NAME_CARE,0,254;LEGAL_AREA \"LEGAL_AREA\" true true false 8 Double 0 0,First,#,parcelsNearResidence,LEGAL_AREA,-1,-1;LGL_AREA_U \"LGL_AREA_U\" true true false 8 Text 0 0,First,#,parcelsNearResidence,LGL_AREA_U,0,8;GIS_AREA \"GIS_AREA\" true true false 8 Double 0 0,First,#,parcelsNearResidence,GIS_AREA,-1,-1;GIS_AREA_U \"GIS_AREA_U\" true true false 8 Text 0 0,First,#,parcelsNearResidence,GIS_AREA_U,0,8;LEGAL_DESC \"LEGAL_DESC\" true true false 254 Text 0 0,First,#,parcelsNearResidence,LEGAL_DESC,0,254;STAT_LAND_ \"STAT_LAND_\" true true false 5 Text 0 0,First,#,parcelsNearResidence,STAT_LAND_,0,5;LOC_LAND_U \"LOC_LAND_U\" true true false 5 Text 0 0,First,#,parcelsNearResidence,LOC_LAND_U,0,5;LAND_VALUE \"LAND_VALUE\" true true false 8 Double 0 0,First,#,parcelsNearResidence,LAND_VALUE,-1,-1;IMP_VALUE \"IMP_VALUE\" true true false 8 Double 0 0,First,#,parcelsNearResidence,IMP_VALUE,-1,-1;MKT_VALUE \"MKT_VALUE\" true true false 8 Double 0 0,First,#,parcelsNearResidence,MKT_VALUE,-1,-1;SITUS_ADDR \"SITUS_ADDR\" true true false 254 Text 0 0,First,#,parcelsNearResidence,SITUS_ADDR,0,254;SITUS_NUM \"SITUS_NUM\" true true false 15 Text 0 0,First,#,parcelsNearResidence,SITUS_NUM,0,15;SITUS_STRE \"SITUS_STRE\" true true false 10 Text 0 0,First,#,parcelsNearResidence,SITUS_STRE,0,10;SITUS_ST_1 \"SITUS_ST_1\" true true false 60 Text 0 0,First,#,parcelsNearResidence,SITUS_ST_1,0,60;SITUS_ST_2 \"SITUS_ST_2\" true true false 60 Text 0 0,First,#,parcelsNearResidence,SITUS_ST_2,0,60;SITUS_CITY \"SITUS_CITY\" true true false 60 Text 0 0,First,#,parcelsNearResidence,SITUS_CITY,0,60;SITUS_STAT \"SITUS_STAT\" true true false 2 Text 0 0,First,#,parcelsNearResidence,SITUS_STAT,0,2;SITUS_ZIP \"SITUS_ZIP\" true true false 5 Text 0 0,First,#,parcelsNearResidence,SITUS_ZIP,0,5;MAIL_ADDR \"MAIL_ADDR\" true true false 254 Text 0 0,First,#,parcelsNearResidence,MAIL_ADDR,0,254;MAIL_LINE1 \"MAIL_LINE1\" true true false 60 Text 0 0,First,#,parcelsNearResidence,MAIL_LINE1,0,60;MAIL_LINE2 \"MAIL_LINE2\" true true false 60 Text 0 0,First,#,parcelsNearResidence,MAIL_LINE2,0,60;MAIL_CITY \"MAIL_CITY\" true true false 60 Text 0 0,First,#,parcelsNearResidence,MAIL_CITY,0,60;MAIL_STAT \"MAIL_STAT\" true true false 2 Text 0 0,First,#,parcelsNearResidence,MAIL_STAT,0,2;MAIL_ZIP \"MAIL_ZIP\" true true false 5 Text 0 0,First,#,parcelsNearResidence,MAIL_ZIP,0,5;SOURCE \"SOURCE\" true true false 100 Text 0 0,First,#,parcelsNearResidence,SOURCE,0,100;DATE_ACQ \"DATE_ACQ\" true true false 4 Long 0 0,First,#,parcelsNearResidence,DATE_ACQ,-1,-1;FIPS \"FIPS\" true true false 5 Text 0 0,First,#,parcelsNearResidence,FIPS,0,5;COUNTY \"COUNTY\" true true false 60 Text 0 0,First,#,parcelsNearResidence,COUNTY,0,60;TAX_YEAR \"TAX_YEAR\" true true false 4 Long 0 0,First,#,parcelsNearResidence,TAX_YEAR,-1,-1;YEAR_BUILT \"YEAR_BUILT\" true true false 4 Long 0 0,First,#,parcelsNearResidence,YEAR_BUILT,-1,-1;SHAPE_Leng \"Shape_Leng\" true true false 8 Double 0 0,First,#,parcelsNearResidence,SHAPE_Leng,-1,-1;LAND_USE \"LAND_USE\" true true false 5 Text 0 0,First,#,parcelsNearResidence,LAND_USE,0,5;Shape_Length \"Shape_Length\" false true true 8 Double 0 0,First,#,parcelsNearResidence,Shape_Length,-1,-1;Shape_Area \"Shape_Area\" false true true 8 Double 0 0,First,#,parcelsNearResidence,Shape_Area,-1,-1', \n",
    "    \"INTERSECT\", \"1 Meters\", '')"
   ]
  },
  {
   "cell_type": "code",
   "execution_count": null,
   "metadata": {},
   "outputs": [],
   "source": [
    "# export logic-parcel join to csv\n",
    "\n",
    "arcpy.conversion.TableToTable(\n",
    "    WORKSPACE + \"/joinTemp2\", PARENT_FOLDER, \"logicParcelLink.csv\", \n",
    "    '', \n",
    "    'Join_Count \"Join_Count\" true true false 4 Long 0 0,First,#,' + PARENT_FOLDER + 'MyProject6/MyProject6.gdb/joinTemp2,Join_Count,-1,-1;TARGET_FID \"TARGET_FID\" true true false 4 Long 0 0,First,#,' + PARENT_FOLDER + 'MyProject6/MyProject6.gdb/joinTemp2,TARGET_FID,-1,-1;yearbuilt \"yearbuilt\" true true false 4 Long 0 0,First,#,' + PARENT_FOLDER + 'MyProject6/MyProject6.gdb/joinTemp2,yearbuilt,-1,-1;storiesnum \"storiesnum\" true true false 4 Long 0 0,First,#,' + PARENT_FOLDER + 'MyProject6/MyProject6.gdb/joinTemp2,storiesnum,-1,-1;parcelleve \"parcelleve\" true true false 8 Double 0 0,First,#,' + PARENT_FOLDER + 'MyProject6/MyProject6.gdb/joinTemp2,parcelleve,-1,-1;parcelle_1 \"parcelle_1\" true true false 8 Double 0 0,First,#,' + PARENT_FOLDER + 'MyProject6/MyProject6.gdb/joinTemp2,parcelle_1,-1,-1;PROP_ID \"PROP_ID\" true true false 70 Text 0 0,First,#,' + PARENT_FOLDER + 'MyProject6/MyProject6.gdb/joinTemp2,PROP_ID,0,70;GEO_ID \"GEO_ID\" true true false 50 Text 0 0,First,#,' + PARENT_FOLDER + 'MyProject6/MyProject6.gdb/joinTemp2,GEO_ID,0,50;OWNER_NAME \"OWNER_NAME\" true true false 254 Text 0 0,First,#,' + PARENT_FOLDER + 'MyProject6/MyProject6.gdb/joinTemp2,OWNER_NAME,0,254;NAME_CARE \"NAME_CARE\" true true false 254 Text 0 0,First,#,' + PARENT_FOLDER + 'MyProject6/MyProject6.gdb/joinTemp2,NAME_CARE,0,254;LEGAL_AREA \"LEGAL_AREA\" true true false 8 Double 0 0,First,#,' + PARENT_FOLDER + 'MyProject6/MyProject6.gdb/joinTemp2,LEGAL_AREA,-1,-1;LGL_AREA_U \"LGL_AREA_U\" true true false 8 Text 0 0,First,#,' + PARENT_FOLDER + 'MyProject6/MyProject6.gdb/joinTemp2,LGL_AREA_U,0,8;GIS_AREA \"GIS_AREA\" true true false 8 Double 0 0,First,#,' + PARENT_FOLDER + 'MyProject6/MyProject6.gdb/joinTemp2,GIS_AREA,-1,-1;GIS_AREA_U \"GIS_AREA_U\" true true false 8 Text 0 0,First,#,' + PARENT_FOLDER + 'MyProject6/MyProject6.gdb/joinTemp2,GIS_AREA_U,0,8;LEGAL_DESC \"LEGAL_DESC\" true true false 254 Text 0 0,First,#,' + PARENT_FOLDER + 'MyProject6/MyProject6.gdb/joinTemp2,LEGAL_DESC,0,254;STAT_LAND_ \"STAT_LAND_\" true true false 5 Text 0 0,First,#,' + PARENT_FOLDER + 'MyProject6/MyProject6.gdb/joinTemp2,STAT_LAND_,0,5;LOC_LAND_U \"LOC_LAND_U\" true true false 5 Text 0 0,First,#,' + PARENT_FOLDER + 'MyProject6/MyProject6.gdb/joinTemp2,LOC_LAND_U,0,5;LAND_VALUE \"LAND_VALUE\" true true false 8 Double 0 0,First,#,' + PARENT_FOLDER + 'MyProject6/MyProject6.gdb/joinTemp2,LAND_VALUE,-1,-1;IMP_VALUE \"IMP_VALUE\" true true false 8 Double 0 0,First,#,' + PARENT_FOLDER + 'MyProject6/MyProject6.gdb/joinTemp2,IMP_VALUE,-1,-1;MKT_VALUE \"MKT_VALUE\" true true false 8 Double 0 0,First,#,' + PARENT_FOLDER + 'MyProject6/MyProject6.gdb/joinTemp2,MKT_VALUE,-1,-1;SITUS_ADDR \"SITUS_ADDR\" true true false 254 Text 0 0,First,#,' + PARENT_FOLDER + 'MyProject6/MyProject6.gdb/joinTemp2,SITUS_ADDR,0,254;SITUS_NUM \"SITUS_NUM\" true true false 15 Text 0 0,First,#,' + PARENT_FOLDER + 'MyProject6/MyProject6.gdb/joinTemp2,SITUS_NUM,0,15;SITUS_STRE \"SITUS_STRE\" true true false 10 Text 0 0,First,#,' + PARENT_FOLDER + 'MyProject6/MyProject6.gdb/joinTemp2,SITUS_STRE,0,10;SITUS_ST_1 \"SITUS_ST_1\" true true false 60 Text 0 0,First,#,' + PARENT_FOLDER + 'MyProject6/MyProject6.gdb/joinTemp2,SITUS_ST_1,0,60;SITUS_ST_2 \"SITUS_ST_2\" true true false 60 Text 0 0,First,#,' + PARENT_FOLDER + 'MyProject6/MyProject6.gdb/joinTemp2,SITUS_ST_2,0,60;SITUS_CITY \"SITUS_CITY\" true true false 60 Text 0 0,First,#,' + PARENT_FOLDER + 'MyProject6/MyProject6.gdb/joinTemp2,SITUS_CITY,0,60;SITUS_STAT \"SITUS_STAT\" true true false 2 Text 0 0,First,#,' + PARENT_FOLDER + 'MyProject6/MyProject6.gdb/joinTemp2,SITUS_STAT,0,2;SITUS_ZIP \"SITUS_ZIP\" true true false 5 Text 0 0,First,#,' + PARENT_FOLDER + 'MyProject6/MyProject6.gdb/joinTemp2,SITUS_ZIP,0,5;MAIL_ADDR \"MAIL_ADDR\" true true false 254 Text 0 0,First,#,' + PARENT_FOLDER + 'MyProject6/MyProject6.gdb/joinTemp2,MAIL_ADDR,0,254;MAIL_LINE1 \"MAIL_LINE1\" true true false 60 Text 0 0,First,#,' + PARENT_FOLDER + 'MyProject6/MyProject6.gdb/joinTemp2,MAIL_LINE1,0,60;MAIL_LINE2 \"MAIL_LINE2\" true true false 60 Text 0 0,First,#,' + PARENT_FOLDER + 'MyProject6/MyProject6.gdb/joinTemp2,MAIL_LINE2,0,60;MAIL_CITY \"MAIL_CITY\" true true false 60 Text 0 0,First,#,' + PARENT_FOLDER + 'MyProject6/MyProject6.gdb/joinTemp2,MAIL_CITY,0,60;MAIL_STAT \"MAIL_STAT\" true true false 2 Text 0 0,First,#,' + PARENT_FOLDER + 'MyProject6/MyProject6.gdb/joinTemp2,MAIL_STAT,0,2;MAIL_ZIP \"MAIL_ZIP\" true true false 5 Text 0 0,First,#,' + PARENT_FOLDER + 'MyProject6/MyProject6.gdb/joinTemp2,MAIL_ZIP,0,5;SOURCE \"SOURCE\" true true false 100 Text 0 0,First,#,' + PARENT_FOLDER + 'MyProject6/MyProject6.gdb/joinTemp2,SOURCE,0,100;DATE_ACQ \"DATE_ACQ\" true true false 4 Long 0 0,First,#,' + PARENT_FOLDER + 'MyProject6/MyProject6.gdb/joinTemp2,DATE_ACQ,-1,-1;FIPS \"FIPS\" true true false 5 Text 0 0,First,#,' + PARENT_FOLDER + 'MyProject6/MyProject6.gdb/joinTemp2,FIPS,0,5;COUNTY \"COUNTY\" true true false 60 Text 0 0,First,#,' + PARENT_FOLDER + 'MyProject6/MyProject6.gdb/joinTemp2,COUNTY,0,60;TAX_YEAR \"TAX_YEAR\" true true false 4 Long 0 0,First,#,' + PARENT_FOLDER + 'MyProject6/MyProject6.gdb/joinTemp2,TAX_YEAR,-1,-1;YEAR_BUILT \"YEAR_BUILT\" true true false 4 Long 0 0,First,#,' + PARENT_FOLDER + 'MyProject6/MyProject6.gdb/joinTemp2,YEAR_BUILT,-1,-1;SHAPE_Leng \"Shape_Leng\" true true false 8 Double 0 0,First,#,' + PARENT_FOLDER + 'MyProject6/MyProject6.gdb/joinTemp2,SHAPE_Leng,-1,-1;LAND_USE \"LAND_USE\" true true false 5 Text 0 0,First,#,' + PARENT_FOLDER + 'MyProject6/MyProject6.gdb/joinTemp2,LAND_USE,0,5', \n",
    "    '')"
   ]
  },
  {
   "cell_type": "code",
   "execution_count": null,
   "metadata": {},
   "outputs": [],
   "source": [
    "# export footprint-parcel join to csv\n",
    "arcpy.conversion.TableToTable(\n",
    "    WORKSPACE + \"\\joinTemp2\", PARENT_FOLDER, \"footprintParcelLink.csv\", \n",
    "    '', \n",
    "    r'Join_Count \"Join_Count\" true true false 4 Long 0 0,First,#,' + PARENT_FOLDER + 'MyProject6/MyProject6.gdb/joinTemp1,Join_Count,-1,-1;TARGET_FID \"TARGET_FID\" true true false 4 Long 0 0,First,#,' + PARENT_FOLDER + 'MyProject6/MyProject6.gdb/joinTemp1,TARGET_FID,-1,-1;release \"release\" true true false 4 Long 0 0,First,#,' + PARENT_FOLDER + 'MyProject6/MyProject6.gdb/joinTemp1,release,-1,-1;capture_da \"capture_da\" true true false 254 Text 0 0,First,#,' + PARENT_FOLDER + 'MyProject6/MyProject6.gdb/joinTemp1,capture_da,0,254;Shape_Leng \"Shape_Leng\" true true false 8 Double 0 0,First,#,' + PARENT_FOLDER + 'MyProject6/MyProject6.gdb/joinTemp1,Shape_Leng,-1,-1;PROP_ID \"PROP_ID\" true true false 70 Text 0 0,First,#,' + PARENT_FOLDER + 'MyProject6/MyProject6.gdb\\joinTemp1,PROP_ID,0,70;GEO_ID \"GEO_ID\" true true false 50 Text 0 0,First,#,' + PARENT_FOLDER + 'MyProject6/MyProject6.gdb/joinTemp1,GEO_ID,0,50;OWNER_NAME \"OWNER_NAME\" true true false 254 Text 0 0,First,#,' + PARENT_FOLDER + 'MyProject6/MyProject6.gdb/joinTemp1,OWNER_NAME,0,254;NAME_CARE \"NAME_CARE\" true true false 254 Text 0 0,First,#,' + PARENT_FOLDER + 'MyProject6/MyProject6.gdb/joinTemp1,NAME_CARE,0,254;LEGAL_AREA \"LEGAL_AREA\" true true false 8 Double 0 0,First,#,' + PARENT_FOLDER + 'MyProject6/MyProject6.gdb/joinTemp1,LEGAL_AREA,-1,-1;LGL_AREA_U \"LGL_AREA_U\" true true false 8 Text 0 0,First,#,' + PARENT_FOLDER + 'MyProject6/MyProject6.gdb/joinTemp1,LGL_AREA_U,0,8;GIS_AREA \"GIS_AREA\" true true false 8 Double 0 0,First,#,' + PARENT_FOLDER + 'MyProject6/MyProject6.gdb/joinTemp1,GIS_AREA,-1,-1;GIS_AREA_U \"GIS_AREA_U\" true true false 8 Text 0 0,First,#,' + PARENT_FOLDER + 'MyProject6/MyProject6.gdb/joinTemp1,GIS_AREA_U,0,8;LEGAL_DESC \"LEGAL_DESC\" true true false 254 Text 0 0,First,#,' + PARENT_FOLDER + 'MyProject6/MyProject6.gdb/joinTemp1,LEGAL_DESC,0,254;STAT_LAND_ \"STAT_LAND_\" true true false 5 Text 0 0,First,#,' + PARENT_FOLDER + 'MyProject6\\MyProject6.gdb\\joinTemp1,STAT_LAND_,0,5;LOC_LAND_U \"LOC_LAND_U\" true true false 5 Text 0 0,First,#,' + PARENT_FOLDER + 'MyProject6/MyProject6.gdb/joinTemp1,LOC_LAND_U,0,5;LAND_VALUE \"LAND_VALUE\" true true false 8 Double 0 0,First,#,' + PARENT_FOLDER + 'MyProject6/MyProject6.gdb/joinTemp1,LAND_VALUE,-1,-1;IMP_VALUE \"IMP_VALUE\" true true false 8 Double 0 0,First,#,' + PARENT_FOLDER + 'MyProject6/MyProject6.gdb/joinTemp1,IMP_VALUE,-1,-1;MKT_VALUE \"MKT_VALUE\" true true false 8 Double 0 0,First,#,' + PARENT_FOLDER + 'MyProject6/MyProject6.gdb/joinTemp1,MKT_VALUE,-1,-1;SITUS_ADDR \"SITUS_ADDR\" true true false 254 Text 0 0,First,#,' + PARENT_FOLDER + 'MyProject6/MyProject6.gdb/joinTemp1,SITUS_ADDR,0,254;SITUS_NUM \"SITUS_NUM\" true true false 15 Text 0 0,First,#,' + PARENT_FOLDER + 'MyProject6/MyProject6.gdb/joinTemp1,SITUS_NUM,0,15;SITUS_STRE \"SITUS_STRE\" true true false 10 Text 0 0,First,#,' + PARENT_FOLDER + 'MyProject6/MyProject6.gdb/joinTemp1,SITUS_STRE,0,10;SITUS_ST_1 \"SITUS_ST_1\" true true false 60 Text 0 0,First,#,' + PARENT_FOLDER + 'MyProject6/MyProject6.gdb/joinTemp1,SITUS_ST_1,0,60;SITUS_ST_2 \"SITUS_ST_2\" true true false 60 Text 0 0,First,#,' + PARENT_FOLDER + 'MyProject6/MyProject6.gdb/joinTemp1,SITUS_ST_2,0,60;SITUS_CITY \"SITUS_CITY\" true true false 60 Text 0 0,First,#,' + PARENT_FOLDER + 'MyProject6/MyProject6.gdb/joinTemp1,SITUS_CITY,0,60;SITUS_STAT \"SITUS_STAT\" true true false 2 Text 0 0,First,#,' + PARENT_FOLDER + 'MyProject6/MyProject6.gdb/joinTemp1,SITUS_STAT,0,2;SITUS_ZIP \"SITUS_ZIP\" true true false 5 Text 0 0,First,#,' + PARENT_FOLDER + 'MyProject6/MyProject6.gdb/joinTemp1,SITUS_ZIP,0,5;MAIL_ADDR \"MAIL_ADDR\" true true false 254 Text 0 0,First,#,' + PARENT_FOLDER + 'MyProject6/MyProject6.gdb/joinTemp1,MAIL_ADDR,0,254;MAIL_LINE1 \"MAIL_LINE1\" true true false 60 Text 0 0,First,#,' + PARENT_FOLDER + 'MyProject6/MyProject6.gdb/joinTemp1,MAIL_LINE1,0,60;MAIL_LINE2 \"MAIL_LINE2\" true true false 60 Text 0 0,First,#,' + PARENT_FOLDER + 'MyProject6/MyProject6.gdb/joinTemp1,MAIL_LINE2,0,60;MAIL_CITY \"MAIL_CITY\" true true false 60 Text 0 0,First,#,' + PARENT_FOLDER + 'MyProject6/MyProject6.gdb/joinTemp1,MAIL_CITY,0,60;MAIL_STAT \"MAIL_STAT\" true true false 2 Text 0 0,First,#,' + PARENT_FOLDER + 'MyProject6/MyProject6.gdb/joinTemp1,MAIL_STAT,0,2;MAIL_ZIP \"MAIL_ZIP\" true true false 5 Text 0 0,First,#,' + PARENT_FOLDER + 'MyProject6/MyProject6.gdb/joinTemp1,MAIL_ZIP,0,5;SOURCE \"SOURCE\" true true false 100 Text 0 0,First,#,' + PARENT_FOLDER + 'MyProject6/MyProject6.gdb/joinTemp1,SOURCE,0,100;DATE_ACQ \"DATE_ACQ\" true true false 4 Long 0 0,First,#,' + PARENT_FOLDER + 'MyProject6/MyProject6.gdb/joinTemp1,DATE_ACQ,-1,-1;FIPS \"FIPS\" true true false 5 Text 0 0,First,#,' + PARENT_FOLDER + 'MyProject6/MyProject6.gdb/joinTemp1,FIPS,0,5;COUNTY \"COUNTY\" true true false 60 Text 0 0,First,#,' + PARENT_FOLDER + 'MyProject6/MyProject6.gdb/joinTemp1,COUNTY,0,60;TAX_YEAR \"TAX_YEAR\" true true false 4 Long 0 0,First,#,' + PARENT_FOLDER + 'MyProject6/MyProject6.gdb/joinTemp1,TAX_YEAR,-1,-1;YEAR_BUILT \"YEAR_BUILT\" true true false 4 Long 0 0,First,#,' + PARENT_FOLDER + 'MyProject6/MyProject6.gdb/joinTemp1,YEAR_BUILT,-1,-1;SHAPE_Leng_1 \"Shape_Leng\" true true false 8 Double 0 0,First,#,' + PARENT_FOLDER + 'MyProject6/MyProject6.gdb/joinTemp1,SHAPE_Leng_1,-1,-1;LAND_USE \"LAND_USE\" true true false 5 Text 0 0,First,#,' + PARENT_FOLDER + 'MyProject6/MyProject6.gdb/joinTemp1,LAND_USE,0,5;Shape_Area_1 \"Shape_Area\" true true false 8 Double 0 0,First,#,' + PARENT_FOLDER + 'MyProject6/MyProject6.gdb/joinTemp1,Shape_Area_1,-1,-1;Shape_Length \"Shape_Length\" false true true 8 Double 0 0,First,#,' + PARENT_FOLDER + 'MyProject6/MyProject6.gdb/joinTemp1,Shape_Length,-1,-1;Shape_Area \"Shape_Area\" false true true 8 Double 0 0,First,#,' + PARENT_FOLDER + 'MyProject6/MyProject6.gdb/joinTemp1,Shape_Area,-1,-1', \n",
    "    '')"
   ]
  },
  {
   "cell_type": "markdown",
   "metadata": {},
   "source": [
    "## part 3: load joined datasets into memory and preprocess ##"
   ]
  },
  {
   "cell_type": "code",
   "execution_count": null,
   "metadata": {},
   "outputs": [],
   "source": [
    "# preprocess corelogic - parcell join\n",
    "logicJoin = ps.read_csv(PARENT_FOLDER + 'logicParcelLink.csv\")\n",
    "logicJoin = logicJoin[logicJoin['Join_Count']>0]\n",
    "logicJoinRed = logicJoin[['TARGET_FID','GEO_ID','yearbuilt','parcelleve','parcelle_1']]\n",
    "print(logicJoinRed.count())\n",
    "logicJoinRed = logicJoinRed.drop_duplicates(subset=['parcelleve','parcelle_1'])\n",
    "logicJoinRed.count()"
   ]
  },
  {
   "cell_type": "code",
   "execution_count": null,
   "metadata": {},
   "outputs": [],
   "source": [
    "# find the parcels with more than one core logic point\n",
    "logicJoinRed['duplicate'] = logicJoinRed.duplicated(subset=['GEO_ID'])\n",
    "duplicates = logicJoinRed[logicJoinRed['duplicate']==True]\n",
    "duplicateGeos = list(set(duplicates['GEO_ID']))\n",
    "# print number of parcels with more than 1 core logic point\n",
    "print(len(duplicateGeos))"
   ]
  },
  {
   "cell_type": "code",
   "execution_count": null,
   "metadata": {},
   "outputs": [],
   "source": [
    "# preprocess footprint - parcel join\n",
    "footprintJoin = ps.read_csv(PARENT_FOLDER + 'footprintParcelLink.csv\")\n",
    "footprintJoin = footprintJoin[['GEO_ID','TARGET_FID','YEAR_BUILT']]\n",
    "footprintJoin.head()"
   ]
  },
  {
   "cell_type": "markdown",
   "metadata": {},
   "source": [
    "## part 4: find the parcels with more than one building footprint and more than one core logic point.  For identified parcels, match each building footprint with the nearest core logic point within the parcel ##"
   ]
  },
  {
   "cell_type": "code",
   "execution_count": null,
   "metadata": {},
   "outputs": [],
   "source": [
    "### IMPORTANT: this is the step where we ensure the two datasets are mutually exclusive ###\n",
    "parcelBased = footprintJoin[~footprintJoin.GEO_ID.isin(duplicateGeos)]\n",
    "print(parcelBased.count())\n",
    "duplicateBased = footprintJoin[footprintJoin.GEO_ID.isin(duplicateGeos)]\n",
    "print(duplicateBased.count())"
   ]
  },
  {
   "cell_type": "code",
   "execution_count": null,
   "metadata": {},
   "outputs": [],
   "source": [
    "tempFootprint = PARENT_FOLDER + \"tempFootprintSelect.shp\"\n",
    "tempCore = PARENT_FOLDER + \"tempCoreSelect.shp\"\n",
    "index = 0\n",
    "total = 0\n",
    "finalDuplicates = []\n",
    "\n",
    "# for each parcel with more than one core logic point and more than one building footprint:\n",
    "for geoId in duplicateGeos:\n",
    "    total+=1\n",
    "    output = PARENT_FOLDER + \"coreFootprintLink/l_\" + str(total) + \".shp\"\n",
    "    \n",
    "    # get ids of footprints within the parcel\n",
    "    curFootprints = duplicateBased[duplicateBased['GEO_ID']==geoId]\n",
    "    # get the ids of core logic points within the parcel\n",
    "    curLogic = logicJoinRed[logicJoinRed['GEO_ID']==geoId]\n",
    "    uniqueYears = list(set(curLogic['yearbuilt']))\n",
    "    \n",
    "    # update indicator \n",
    "    if(total %100 == 0):\n",
    "        print(index)\n",
    "        \n",
    "    # if there are more than 1 footprints and core logic points have more than 1 unique years\n",
    "    # \n",
    "    if(curFootprints.count()[0] >1 and len(uniqueYears)>1):\n",
    "        \n",
    "        # add parcel id to the list of parcel ids that can't be simply extracted from parcels\n",
    "        finalDuplicates.append(geoId)\n",
    "        index +=1\n",
    "        \n",
    "        # cleanup from previous iteration through the for loop\n",
    "        if(os.path.exists(tempFootprint)):\n",
    "            arcpy.Delete_management(tempFootprint)\n",
    "        if(os.path.exists(tempCore)):\n",
    "            arcpy.Delete_management(tempCore)\n",
    "            \n",
    "        # get footprints within the parcel within the shapefile\n",
    "        arcpy.Select_analysis(WORKSPACE + \"\\joinTemp1\",tempFootprint, \"GEO_ID = '\" + geoId + \"'\")\n",
    "        \n",
    "        # get the core logic points within the parcel within the shapefile\n",
    "        arcpy.Select_analysis(WORKSPACE + \"\\joinTemp2\",tempCore, \"GEO_ID = '\" + geoId + \"'\")\n",
    "        \n",
    "        # match each footprint to the nearest core logic point and store in new dataset 'output'\n",
    "        arcpy.SpatialJoin_analysis(\n",
    "            tempFootprint, tempCore, output, \n",
    "            \"JOIN_ONE_TO_ONE\", \"KEEP_ALL\", '#',\"CLOSEST\", \"#\", '')\n",
    "        \n",
    "\n",
    "print(index)"
   ]
  },
  {
   "cell_type": "code",
   "execution_count": null,
   "metadata": {},
   "outputs": [],
   "source": [
    "# get list of near join shapefiles for parcels with more than one core logic and building footprint\n",
    "linkFilesToMerge = glob.glob(PARENT_FOLDER \" coreFootprintLink/l_*.shp\")\n",
    "# merge near join shapefiles and export to csv\n",
    "arcpy.Merge_management(linkFilesToMerge, WORKSPACE + \"/coreLinkMerged\")\n",
    "arcpy.conversion.TableToTable(\n",
    "    WORKSPACE + \"/coreLinkMerged\", PARENT_FOLDER, \"coreLink.csv\", \n",
    "    '','#','')"
   ]
  },
  {
   "cell_type": "markdown",
   "metadata": {},
   "source": [
    "## part 5: merge parcel shapefiles with year built estimates from core logic points and parcels.  Because of previous steps, the two datasets are mutually exclusive"
   ]
  },
  {
   "cell_type": "code",
   "execution_count": null,
   "metadata": {},
   "outputs": [],
   "source": [
    "# load linkages from parcels with more than 1 footprint and core logic point\n",
    "coreLink = ps.read_csv(PARENT_FOLDER + \"coreLink.csv\")\n",
    "print(coreLink.keys())\n",
    "print(coreLink.count()[0])\n",
    "coreLink = coreLink[['TARGET_FID','yearbuilt']]\n",
    "print(coreLink.head())"
   ]
  },
  {
   "cell_type": "code",
   "execution_count": null,
   "metadata": {},
   "outputs": [],
   "source": [
    "# prep year built estimates derived solely from parcels\n",
    "footprintJoin = footprintJoin[['TARGET_FID','YEAR_BUILT']]\n",
    "footprintJoin['YEAR_BUILT'] = footprintJoin['YEAR_BUILT'].fillna(-1)\n",
    "footprintJoin['YEAR_BUILT'] = footprintJoin['YEAR_BUILT'].astype(int)\n",
    "footprintJoin2 = footprintJoin\n",
    "footprintJoin2['yearbuilt'] = footprintJoin['YEAR_BUILT']\n",
    "footprintJoin2 = footprintJoin2[['TARGET_FID','yearbuilt']]\n",
    "footprintJoin2.head()\n",
    "print(footprintJoin2.count())"
   ]
  },
  {
   "cell_type": "code",
   "execution_count": null,
   "metadata": {},
   "outputs": [],
   "source": [
    "# combine the core logic and parcel year built estimates together\n",
    "combinedJoin = ps.concat([coreLink,footprintJoin2])\n",
    "print(combinedJoin.head())\n",
    "print(combinedJoin.count())\n",
    "combinedJoin.to_csv(PARENT_FOLDER + \"yearbuiltJoin.csv\",index=False)"
   ]
  },
  {
   "cell_type": "code",
   "execution_count": null,
   "metadata": {},
   "outputs": [],
   "source": [
    "# join the year buit estimates with building footprints shapefile\n",
    "arcpy.MakeTableView_management (PARENT_FOLDER + \"yearbuiltJoin.csv\")\n",
    "joinedFootprints = arcpy.AddJoin_management(FOOTPRINTS_NEAR, \"FID\", PARENT_FOLDER + \"yearbuiltJoin.csv\", \n",
    "                                            \"TARGET_FID\")\n",
    "arcpy.CopyFeatures_management(joinedFootprints, WORKSPACE + \"/footprints_w_year\")"
   ]
  },
  {
   "cell_type": "markdown",
   "metadata": {},
   "source": [
    "## part 6: create unique building footprints for each year based on the year built variable ##"
   ]
  },
  {
   "cell_type": "code",
   "execution_count": null,
   "metadata": {},
   "outputs": [],
   "source": [
    "for year in range(2007,2020):\n",
    "    expression = \"yearbuiltJoin_csv_yearbuilt < \" + str(year) + \"\"\n",
    "    outputFile = WORKSPACE + \"/footprints_\" + str(year)\n",
    "    arcpy.Select_analysis(WORKSPACE + \"/footprints_w_year\",outputFile,expression)\n",
    "    print(year)"
   ]
  }
 ],
 "metadata": {
  "kernelspec": {
   "display_name": "Python 3 (ipykernel)",
   "language": "python",
   "name": "python3"
  },
  "language_info": {
   "codemirror_mode": {
    "name": "ipython",
    "version": 3
   },
   "file_extension": ".py",
   "mimetype": "text/x-python",
   "name": "python",
   "nbconvert_exporter": "python",
   "pygments_lexer": "ipython3",
   "version": "3.9.13"
  }
 },
 "nbformat": 4,
 "nbformat_minor": 4
}
