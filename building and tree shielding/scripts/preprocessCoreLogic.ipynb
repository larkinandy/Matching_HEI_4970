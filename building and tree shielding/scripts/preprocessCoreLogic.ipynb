{
 "cells": [
  {
   "cell_type": "markdown",
   "id": "d28979d1",
   "metadata": {},
   "source": [
    "# preprocessCoreLogic #\n",
    "**Author:** Andrew Larkin <br>\n",
    "Developed for the HEI Transit Study <br>\n",
    "**Summary:** given a large core logic csv file, reduce the variables to those needed for the wind analysis and restrict to within 5km of maternal residences"
   ]
  },
  {
   "cell_type": "markdown",
   "id": "dfd45255",
   "metadata": {},
   "source": [
    "## part 1: import libraries and define global constants ##"
   ]
  },
  {
   "cell_type": "code",
   "execution_count": null,
   "id": "3118a81d",
   "metadata": {},
   "outputs": [],
   "source": [
    "import pandas as ps\n",
    "import os\n",
    "import arcpy\n",
    "import const as gConst\n",
    "arcpy.env.overwriteOutput=True"
   ]
  },
  {
   "cell_type": "code",
   "execution_count": null,
   "id": "4ba96bae",
   "metadata": {},
   "outputs": [],
   "source": [
    "PARENT_FOLDER = const.WIND_FOLDER + \"Corelogic_Building_Years/\"\n",
    "CORE_LOGIC_FILE = PARENT_FOLDER + \"CoreLogicData/TaxCompiled.csv\""
   ]
  },
  {
   "cell_type": "markdown",
   "id": "a7465e27",
   "metadata": {},
   "source": [
    "## part 2: load corelogic into python and remove unneeded variables and records without GIS coordinates ###"
   ]
  },
  {
   "cell_type": "code",
   "execution_count": null,
   "id": "e1191c40",
   "metadata": {},
   "outputs": [],
   "source": [
    "coreLogicData = ps.read_csv(CORE_LOGIC_FILE)\n",
    "coreLogicData.head()"
   ]
  },
  {
   "cell_type": "code",
   "execution_count": null,
   "id": "0b856516",
   "metadata": {},
   "outputs": [],
   "source": [
    "print(coreLogicData.keys())\n",
    "print(coreLogicData.count()[0])"
   ]
  },
  {
   "cell_type": "code",
   "execution_count": null,
   "id": "3f9643d1",
   "metadata": {},
   "outputs": [],
   "source": [
    "coreLogicData['yearbuilt'] = coreLogicData['yearbuilt'].fillna(-1)\n",
    "coreLogicData['yearbuilt'] = coreLogicData['yearbuilt'].astype(int)"
   ]
  },
  {
   "cell_type": "code",
   "execution_count": null,
   "id": "58763ccc",
   "metadata": {},
   "outputs": [],
   "source": [
    "reduced = coreLogicData[['yearbuilt','storiesnumber','parcellevellatitude','parcellevellongitude']]\n",
    "reduced = reduced[reduced['parcellevellatitude']>0]\n",
    "reduced = reduced[reduced['parcellevellongitude']>-200]\n",
    "reduced['storiesnumber'] = reduced['storiesnumber'].fillna(-1)\n",
    "reduced['storiesnumber'] = reduced['storiesnumber'].astype(int)\n",
    "reduced.to_csv(PARENT_FOLDER + \"CoreLogicData/reduced.csv\",index=False)"
   ]
  },
  {
   "cell_type": "markdown",
   "id": "431eedc0",
   "metadata": {},
   "source": [
    "## part 3: load reduced core logic records into GIS  ##"
   ]
  },
  {
   "cell_type": "code",
   "execution_count": null,
   "id": "fe7d8ffd",
   "metadata": {},
   "outputs": [],
   "source": [
    "#  These values based on your script\n",
    "XFieldName = 'parcellevellongitude'\n",
    "YFieldName = 'parcellevellatitude'\n",
    "outFolder = PARENT_FOLDER + \"/\"\n",
    "spatialRef = arcpy.SpatialReference(4326)\n",
    "csvFilePath = PARENT_FOLDER + \"CoreLogicData/reduced.csv\"\n",
    "coreLogicLayer = \"coreLogicLayer\"\n",
    "coreLogicShapefile = const.WIND_FOLDER + \"temp/intermediateProducts.gdb\"\n",
    "arcpy.MakeXYEventLayer_management(csvFilePath, XFieldName, YFieldName, coreLogicLayer, spatial_reference=spatialRef)\n",
    "arcpy.FeatureClassToShapefile_conversion(coreLogicLayer, coreLogicShapefile)"
   ]
  },
  {
   "cell_type": "markdown",
   "id": "2e938caf",
   "metadata": {},
   "source": [
    "## part 4: restrict core logic data points to within 5km of maternal residence locations ##"
   ]
  },
  {
   "cell_type": "code",
   "execution_count": null,
   "id": "a718afc2",
   "metadata": {},
   "outputs": [],
   "source": [
    "residenceLocations = const.WIND_FOLDER + \"Birth_Addresses_Wind/births_shapefile/Births0716_Wind.shp\"\n",
    "outTable = const.WIND_FOLDER + \"temp/intermediateProducts.gdb/coreNearResidence\"\n",
    "arcpy.GenerateNearTable_analysis(coreLogicLayer, residenceLocations, outTable, \"5000 Meters\")"
   ]
  }
 ],
 "metadata": {
  "kernelspec": {
   "display_name": "Python 3 (ipykernel)",
   "language": "python",
   "name": "python3"
  },
  "language_info": {
   "codemirror_mode": {
    "name": "ipython",
    "version": 3
   },
   "file_extension": ".py",
   "mimetype": "text/x-python",
   "name": "python",
   "nbconvert_exporter": "python",
   "pygments_lexer": "ipython3",
   "version": "3.9.13"
  }
 },
 "nbformat": 4,
 "nbformat_minor": 5
}
